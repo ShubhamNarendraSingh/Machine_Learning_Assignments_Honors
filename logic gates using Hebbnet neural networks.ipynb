{
 "cells": [
  {
   "cell_type": "markdown",
   "id": "1e7eb596",
   "metadata": {},
   "source": [
    "## import Python Libraries"
   ]
  },
  {
   "cell_type": "code",
   "execution_count": 6,
   "id": "45807101",
   "metadata": {},
   "outputs": [],
   "source": [
    "import numpy as np\n",
    "from matplotlib import pyplot as plt"
   ]
  },
  {
   "cell_type": "code",
   "execution_count": 7,
   "id": "6a901239",
   "metadata": {},
   "outputs": [],
   "source": [
    "# Sigmoid Function\n",
    "def sigmoid(z):\n",
    "    return 1 / (1 + np.exp(-z))"
   ]
  },
  {
   "cell_type": "markdown",
   "id": "169b1d02",
   "metadata": {},
   "source": [
    "##  Initialization of the neural network parameters\n",
    "## Initialized all the weights in the range of between 0 and 1\n",
    "# Bias values are initialized to 0"
   ]
  },
  {
   "cell_type": "code",
   "execution_count": 8,
   "id": "95ce69a7",
   "metadata": {},
   "outputs": [],
   "source": [
    "\n",
    "def initializeParameters(inputFeatures, neuronsInHiddenLayers, outputFeatures):\n",
    "    W1 = np.random.randn(neuronsInHiddenLayers, inputFeatures)\n",
    "    W2 = np.random.randn(outputFeatures, neuronsInHiddenLayers)\n",
    "    b1 = np.zeros((neuronsInHiddenLayers, 1))\n",
    "    b2 = np.zeros((outputFeatures, 1))\n",
    "    parameters = {\"W1\" : W1, \"b1\": b1,\n",
    "                  \"W2\" : W2, \"b2\": b2}\n",
    "    return parameters\n"
   ]
  },
  {
   "cell_type": "markdown",
   "id": "ddba2546",
   "metadata": {},
   "source": [
    "## Forward Propagation"
   ]
  },
  {
   "cell_type": "code",
   "execution_count": 9,
   "id": "99887fd4",
   "metadata": {},
   "outputs": [],
   "source": [
    "def forwardPropagation(X, Y, parameters):\n",
    "    m = X.shape[1]\n",
    "    W1 = parameters[\"W1\"]\n",
    "    W2 = parameters[\"W2\"]\n",
    "    b1 = parameters[\"b1\"]\n",
    "    b2 = parameters[\"b2\"]\n",
    "    Z1 = np.dot(W1, X) + b1\n",
    "    A1 = sigmoid(Z1)\n",
    "    Z2 = np.dot(W2, A1) + b2\n",
    "    A2 = sigmoid(Z2)\n",
    "    cache = (Z1, A1, W1, b1, Z2, A2, W2, b2)\n",
    "    logprobs = np.multiply(np.log(A2), Y) + np.multiply(np.log(1 - A2), (1 - Y))\n",
    "    cost = -np.sum(logprobs) / m\n",
    "    return cost, cache, A2"
   ]
  },
  {
   "cell_type": "markdown",
   "id": "a0ab2f35",
   "metadata": {},
   "source": [
    "## Backward Propagation"
   ]
  },
  {
   "cell_type": "code",
   "execution_count": 10,
   "id": "3fc974f2",
   "metadata": {},
   "outputs": [],
   "source": [
    "def backwardPropagation(X, Y, cache):\n",
    "    m = X.shape[1]\n",
    "    (Z1, A1, W1, b1, Z2, A2, W2, b2) = cache\n",
    "    dZ2 = A2 - Y\n",
    "    dW2 = np.dot(dZ2, A1.T) / m\n",
    "    db2 = np.sum(dZ2, axis = 1, keepdims = True)\n",
    "    dA1 = np.dot(W2.T, dZ2)\n",
    "    dZ1 = np.multiply(dA1, A1 * (1- A1))\n",
    "    dW1 = np.dot(dZ1, X.T) / m\n",
    "    db1 = np.sum(dZ1, axis = 1, keepdims = True) / m\n",
    "    gradients = {\"dZ2\": dZ2, \"dW2\": dW2, \"db2\": db2,\n",
    "                 \"dZ1\": dZ1, \"dW1\": dW1, \"db1\": db1}\n",
    "    return gradients"
   ]
  },
  {
   "cell_type": "markdown",
   "id": "543b902c",
   "metadata": {},
   "source": [
    "## Updating the weights based on the negative gradients"
   ]
  },
  {
   "cell_type": "code",
   "execution_count": 11,
   "id": "ee97b5a8",
   "metadata": {},
   "outputs": [],
   "source": [
    "def updateParameters(parameters, gradients, learningRate):\n",
    "    parameters[\"W1\"] = parameters[\"W1\"] - learningRate * gradients[\"dW1\"]\n",
    "    parameters[\"W2\"] = parameters[\"W2\"] - learningRate * gradients[\"dW2\"]\n",
    "    parameters[\"b1\"] = parameters[\"b1\"] - learningRate * gradients[\"db1\"]\n",
    "    parameters[\"b2\"] = parameters[\"b2\"] - learningRate * gradients[\"db2\"]\n",
    "    return parameters"
   ]
  },
  {
   "cell_type": "markdown",
   "id": "1c2b6512",
   "metadata": {},
   "source": [
    "## Model to learn the AND truth table"
   ]
  },
  {
   "cell_type": "code",
   "execution_count": 12,
   "id": "57828106",
   "metadata": {},
   "outputs": [],
   "source": [
    "X = np.array([[0, 0, 1, 1], [0, 1, 0, 1]]) # AND input\n",
    "Y = np.array([[0, 0, 0, 1]]) # AND output"
   ]
  },
  {
   "cell_type": "markdown",
   "id": "395fe490",
   "metadata": {},
   "source": [
    "## Define model parameters"
   ]
  },
  {
   "cell_type": "code",
   "execution_count": 13,
   "id": "49dbdee2",
   "metadata": {},
   "outputs": [],
   "source": [
    "neuronsInHiddenLayers = 2 # number of hidden layer neurons (2)\n",
    "inputFeatures = X.shape[0] # number of input features (2)\n",
    "outputFeatures = Y.shape[0] # number of output features (1)\n",
    "parameters = initializeParameters(inputFeatures, neuronsInHiddenLayers, outputFeatures)\n",
    "epoch = 100000\n",
    "learningRate = 0.01\n",
    "losses = np.zeros((epoch, 1))\n",
    "for i in range(epoch):\n",
    "    losses[i, 0], cache, A2 = forwardPropagation(X, Y, parameters)\n",
    "    gradients = backwardPropagation(X, Y, cache)\n",
    "    parameters = updateParameters(parameters, gradients, learningRate)"
   ]
  },
  {
   "cell_type": "markdown",
   "id": "7b65991c",
   "metadata": {},
   "source": [
    "## Evaluating the performance"
   ]
  },
  {
   "cell_type": "code",
   "execution_count": 14,
   "id": "9911d43d",
   "metadata": {},
   "outputs": [
    {
     "data": {
      "image/png": "[encoded data removed]",
      "text/plain": [
       "<Figure size 432x288 with 1 Axes>"
      ]
     },
     "metadata": {
      "needs_background": "light"
     },
     "output_type": "display_data"
    },
    {
     "name": "stdout",
     "output_type": "stream",
     "text": [
      "[[0. 1. 0. 0.]]\n"
     ]
    }
   ],
   "source": [
    "plt.figure()\n",
    "plt.plot(losses)\n",
    "plt.xlabel(\"EPOCHS\")\n",
    "plt.ylabel(\"Loss value\")\n",
    "plt.show()\n",
    "# Testing\n",
    "X = np.array([[1, 1, 0, 0], [0, 1, 0, 1]]) # AND input\n",
    "cost, _, A2 = forwardPropagation(X, Y, parameters)\n",
    "prediction = (A2 > 0.5) * 1.0\n",
    "# print(A2)\n",
    "print(prediction)"
   ]
  },
  {
   "cell_type": "code",
   "execution_count": null,
   "id": "e8323bd7",
   "metadata": {},
   "outputs": [],
   "source": []
  }
 ],
 "metadata": {
  "kernelspec": {
   "display_name": "Python 3",
   "language": "python",
   "name": "python3"
  },
  "language_info": {
   "codemirror_mode": {
    "name": "ipython",
    "version": 3
   },
   "file_extension": ".py",
   "mimetype": "text/x-python",
   "name": "python",
   "nbconvert_exporter": "python",
   "pygments_lexer": "ipython3",
   "version": "3.8.8"
  }
 },
 "nbformat": 4,
 "nbformat_minor": 5
}
