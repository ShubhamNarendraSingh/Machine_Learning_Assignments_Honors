{
 "cells": [
  {
   "cell_type": "code",
   "execution_count": 1,
   "id": "ba8dc5f5",
   "metadata": {},
   "outputs": [
    {
     "name": "stdout",
     "output_type": "stream",
     "text": [
      "Requirement already satisfied: graphviz in c:\\users\\shubh\\anaconda3\\lib\\site-packages (0.20.1)\n"
     ]
    }
   ],
   "source": [
    "!pip install graphviz"
   ]
  },
  {
   "cell_type": "code",
   "execution_count": 2,
   "id": "55c278b2",
   "metadata": {},
   "outputs": [],
   "source": [
    "# import module\n",
    "from graphviz import Digraph"
   ]
  },
  {
   "cell_type": "code",
   "execution_count": 3,
   "id": "0c7c3b5e",
   "metadata": {},
   "outputs": [],
   "source": [
    "# instantiating object\n",
    "dot = Digraph(comment='A Round Graph')"
   ]
  },
  {
   "cell_type": "code",
   "execution_count": 4,
   "id": "ae89207f",
   "metadata": {},
   "outputs": [],
   "source": [
    "# Adding nodes\n",
    "dot.node('A', 'Aman')\n",
    "dot.node('B', 'Shubham')\n",
    "dot.node('C', 'Vinay')\n",
    "dot.node('D', 'Prathamesh')"
   ]
  },
  {
   "cell_type": "code",
   "execution_count": 5,
   "id": "4cdae4d3",
   "metadata": {},
   "outputs": [],
   "source": [
    "# Adding edges\n",
    "dot.edges(['AB', 'AC', 'AD'])\n",
    "dot.edge('B', 'C', constraint = 'false')\n",
    "dot.edge('C', 'D', constraint = 'false')"
   ]
  },
  {
   "cell_type": "code",
   "execution_count": 6,
   "id": "94dc0763",
   "metadata": {},
   "outputs": [
    {
     "data": {
      "text/plain": [
       "'Graph.png'"
      ]
     },
     "execution_count": 6,
     "metadata": {},
     "output_type": "execute_result"
    }
   ],
   "source": [
    "# saving source code\n",
    "dot.format = 'png'\n",
    "dot.render('Graph', view = True)"
   ]
  },
  {
   "cell_type": "markdown",
   "id": "9cd03b28",
   "metadata": {},
   "source": [
    "## Errors I Faced with solution of stackoverflow"
   ]
  },
  {
   "cell_type": "markdown",
   "id": "4fa4e813",
   "metadata": {},
   "source": [
    "# https://stackoverflow.com/questions/35064304/runtimeerror-make-sure-the-graphviz-executables-are-on-your-systems-path-aft"
   ]
  },
  {
   "cell_type": "code",
   "execution_count": null,
   "id": "7bdcaf38",
   "metadata": {},
   "outputs": [],
   "source": []
  }
 ],
 "metadata": {
  "kernelspec": {
   "display_name": "Python 3",
   "language": "python",
   "name": "python3"
  },
  "language_info": {
   "codemirror_mode": {
    "name": "ipython",
    "version": 3
   },
   "file_extension": ".py",
   "mimetype": "text/x-python",
   "name": "python",
   "nbconvert_exporter": "python",
   "pygments_lexer": "ipython3",
   "version": "3.8.8"
  }
 },
 "nbformat": 4,
 "nbformat_minor": 5
}
