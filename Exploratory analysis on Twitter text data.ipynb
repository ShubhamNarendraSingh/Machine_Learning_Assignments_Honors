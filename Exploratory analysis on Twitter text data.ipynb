{
 "cells": [
  {
   "cell_type": "markdown",
   "id": "2a73149c",
   "metadata": {},
   "source": [
    "## Exploratory analysis on Twitter text data"
   ]
  },
  {
   "cell_type": "code",
   "execution_count": 2,
   "id": "98b1b942",
   "metadata": {},
   "outputs": [
    {
     "name": "stdout",
     "output_type": "stream",
     "text": [
      "Collecting wordcloud\n",
      "  Downloading wordcloud-1.8.2.2-cp38-cp38-win_amd64.whl (152 kB)\n",
      "Requirement already satisfied: pillow in c:\\users\\shubh\\anaconda3\\lib\\site-packages (from wordcloud) (8.2.0)\n",
      "Requirement already satisfied: numpy>=1.6.1 in c:\\users\\shubh\\anaconda3\\lib\\site-packages (from wordcloud) (1.20.1)\n",
      "Requirement already satisfied: matplotlib in c:\\users\\shubh\\anaconda3\\lib\\site-packages (from wordcloud) (3.3.4)\n",
      "Requirement already satisfied: cycler>=0.10 in c:\\users\\shubh\\anaconda3\\lib\\site-packages (from matplotlib->wordcloud) (0.10.0)\n",
      "Requirement already satisfied: kiwisolver>=1.0.1 in c:\\users\\shubh\\anaconda3\\lib\\site-packages (from matplotlib->wordcloud) (1.3.1)\n",
      "Requirement already satisfied: python-dateutil>=2.1 in c:\\users\\shubh\\anaconda3\\lib\\site-packages (from matplotlib->wordcloud) (2.8.1)\n",
      "Requirement already satisfied: pyparsing!=2.0.4,!=2.1.2,!=2.1.6,>=2.0.3 in c:\\users\\shubh\\anaconda3\\lib\\site-packages (from matplotlib->wordcloud) (2.4.7)\n",
      "Requirement already satisfied: six in c:\\users\\shubh\\anaconda3\\lib\\site-packages (from cycler>=0.10->matplotlib->wordcloud) (1.15.0)\n",
      "Installing collected packages: wordcloud\n",
      "Successfully installed wordcloud-1.8.2.2\n"
     ]
    }
   ],
   "source": [
    "!pip install wordcloud"
   ]
  },
  {
   "cell_type": "code",
   "execution_count": 3,
   "id": "589de241",
   "metadata": {},
   "outputs": [],
   "source": [
    "# utilities\n",
    "import re\n",
    "import numpy as np\n",
    "import pandas as pd\n",
    "# plotting\n",
    "import seaborn as sns\n",
    "from wordcloud import WordCloud\n",
    "import matplotlib.pyplot as plt\n",
    "# nltk\n",
    "from nltk.stem import WordNetLemmatizer\n",
    "# sklearn\n",
    "from sklearn.svm import LinearSVC\n",
    "from sklearn.naive_bayes import BernoulliNB\n",
    "from sklearn.linear_model import LogisticRegression\n",
    "from sklearn.model_selection import train_test_split\n",
    "from sklearn.feature_extraction.text import TfidfVectorizer\n",
    "from sklearn.metrics import confusion_matrix, classification_report"
   ]
  },
  {
   "cell_type": "markdown",
   "id": "67900610",
   "metadata": {},
   "source": [
    "## Step-2: Read and Load the Dataset"
   ]
  },
  {
   "cell_type": "code",
   "execution_count": 5,
   "id": "2e25095c",
   "metadata": {
    "scrolled": true
   },
   "outputs": [],
   "source": [
    "# Importing the dataset\n",
    "DATASET_COLUMNS=['target','ids','date','flag','user','text']\n",
    "DATASET_ENCODING = \"ISO-8859-1\"\n",
    "df = pd.read_csv('Project_Data.csv', encoding=DATASET_ENCODING, names=DATASET_COLUMNS)\n",
    "df.sample(5)"
   ]
  },
  {
   "cell_type": "markdown",
   "id": "dce373b5",
   "metadata": {},
   "source": [
    "## Step-3: Exploratory Data Analysis \n",
    "3.1: Five top records of data"
   ]
  },
  {
   "cell_type": "code",
   "execution_count": null,
   "id": "4b55ea76",
   "metadata": {},
   "outputs": [],
   "source": [
    "df.head()"
   ]
  },
  {
   "cell_type": "markdown",
   "id": "45ab3c07",
   "metadata": {},
   "source": [
    "3.2: Columns/features in data"
   ]
  },
  {
   "cell_type": "code",
   "execution_count": 7,
   "id": "aed43568",
   "metadata": {},
   "outputs": [],
   "source": [
    "df.columns"
   ]
  },
  {
   "cell_type": "markdown",
   "id": "6e0e9e5e",
   "metadata": {},
   "source": [
    "3.3: Length of the dataset"
   ]
  },
  {
   "cell_type": "code",
   "execution_count": null,
   "id": "95f9e4e7",
   "metadata": {},
   "outputs": [],
   "source": [
    "print('length of data is', len(df))"
   ]
  },
  {
   "cell_type": "markdown",
   "id": "c800e3eb",
   "metadata": {},
   "source": [
    "3.4: Shape of data"
   ]
  },
  {
   "cell_type": "code",
   "execution_count": null,
   "id": "4888999d",
   "metadata": {},
   "outputs": [],
   "source": [
    "df. shape"
   ]
  },
  {
   "cell_type": "markdown",
   "id": "94a66427",
   "metadata": {},
   "source": [
    "3.5: Data information"
   ]
  },
  {
   "cell_type": "code",
   "execution_count": 9,
   "id": "00c44ba8",
   "metadata": {},
   "outputs": [],
   "source": [
    "df.info()"
   ]
  },
  {
   "cell_type": "markdown",
   "id": "6fa74e3e",
   "metadata": {},
   "source": [
    "3.6: Datatypes of all columns"
   ]
  },
  {
   "cell_type": "code",
   "execution_count": null,
   "id": "b5075243",
   "metadata": {},
   "outputs": [],
   "source": []
  }
 ],
 "metadata": {
  "kernelspec": {
   "display_name": "Python 3",
   "language": "python",
   "name": "python3"
  },
  "language_info": {
   "codemirror_mode": {
    "name": "ipython",
    "version": 3
   },
   "file_extension": ".py",
   "mimetype": "text/x-python",
   "name": "python",
   "nbconvert_exporter": "python",
   "pygments_lexer": "ipython3",
   "version": "3.8.8"
  }
 },
 "nbformat": 4,
 "nbformat_minor": 5
}
